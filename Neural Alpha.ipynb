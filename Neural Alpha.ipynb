{
 "cells": [
  {
   "cell_type": "code",
   "execution_count": 49,
   "id": "8c11ff13",
   "metadata": {},
   "outputs": [],
   "source": [
    "import pandas as pd\n",
    "import matplotlib.pyplot as plt\n",
    "import re"
   ]
  },
  {
   "cell_type": "markdown",
   "id": "a85c3dba",
   "metadata": {},
   "source": [
    "Query 1:\n",
    "SELECT \n",
    "DATE, Locations, V2Locations, V2Tone\n",
    "FROM `gdelt-bq.gdeltv2.gkg_partitioned` \n",
    "WHERE \n",
    "DATE(_PARTITIONTIME) > \"2023-01-01\" \n",
    "and (Themes like \"%DEFOREST%\" or V2Themes like \"%DEFOREST%\")\n",
    "and (Locations like \"%India%\" or V2Locations like \"%India%\")\n",
    ";\n",
    "output \"bquxjob_10f9d47a_18760d2fdc0.json\""
   ]
  },
  {
   "cell_type": "code",
   "execution_count": 50,
   "id": "d0f9ea08",
   "metadata": {},
   "outputs": [],
   "source": [
    "deforest_df = df = pd.read_json('/home/naman/Downloads/bquxjob_10f9d47a_18760d2fdc0.json', convert_dates = False)"
   ]
  },
  {
   "cell_type": "code",
   "execution_count": 51,
   "id": "822b83f4",
   "metadata": {},
   "outputs": [],
   "source": [
    "deforest_df[\"DATE\"] = pd.to_datetime(deforest_df[\"DATE\"], format = '%Y%m%d%H%M%S')\n",
    "deforest_df[[\"Tone\", \"Positive Score\", \"Negative Score\", \"Polarity\", \"Activity Reference Density\", \"Self/Group Reference Density\", \"Word Count\"]] =  deforest_df[\"V2Tone\"].str.split(\",\", expand = True)\n",
    "deforest_df[\"Tone\"] = deforest_df[\"Tone\"].astype(float)\n",
    "deforest_df[\"Positive Score\"] = deforest_df[\"Positive Score\"].astype(float)\n",
    "deforest_df[\"Negative Score\"] = -deforest_df[\"Negative Score\"].astype(float)"
   ]
  },
  {
   "cell_type": "code",
   "execution_count": 52,
   "id": "c9f71319",
   "metadata": {},
   "outputs": [
    {
     "data": {
      "text/html": [
       "<div>\n",
       "<style scoped>\n",
       "    .dataframe tbody tr th:only-of-type {\n",
       "        vertical-align: middle;\n",
       "    }\n",
       "\n",
       "    .dataframe tbody tr th {\n",
       "        vertical-align: top;\n",
       "    }\n",
       "\n",
       "    .dataframe thead th {\n",
       "        text-align: right;\n",
       "    }\n",
       "</style>\n",
       "<table border=\"1\" class=\"dataframe\">\n",
       "  <thead>\n",
       "    <tr style=\"text-align: right;\">\n",
       "      <th></th>\n",
       "      <th>DATE</th>\n",
       "      <th>Locations</th>\n",
       "      <th>V2Locations</th>\n",
       "      <th>V2Tone</th>\n",
       "      <th>Tone</th>\n",
       "      <th>Positive Score</th>\n",
       "      <th>Negative Score</th>\n",
       "      <th>Polarity</th>\n",
       "      <th>Activity Reference Density</th>\n",
       "      <th>Self/Group Reference Density</th>\n",
       "      <th>Word Count</th>\n",
       "    </tr>\n",
       "  </thead>\n",
       "  <tbody>\n",
       "    <tr>\n",
       "      <th>0</th>\n",
       "      <td>2023-02-27 03:45:00</td>\n",
       "      <td>1#Namibia#WA#WA#-22#17#WA;1#South Africa#SF#SF...</td>\n",
       "      <td>5#Himachal Pradesh, Himachal Pradesh, India#IN...</td>\n",
       "      <td>-0.206611570247934,3.20247933884297,3.40909090...</td>\n",
       "      <td>-0.206612</td>\n",
       "      <td>3.202479</td>\n",
       "      <td>-3.409091</td>\n",
       "      <td>6.61157024793388</td>\n",
       "      <td>21.2809917355372</td>\n",
       "      <td>0.103305785123967</td>\n",
       "      <td>883</td>\n",
       "    </tr>\n",
       "    <tr>\n",
       "      <th>1</th>\n",
       "      <td>2023-02-27 21:15:00</td>\n",
       "      <td>4#Jacareacanga, ParáR, Brazil#BR#BR16#-6.26667...</td>\n",
       "      <td>1#Central African#CT#CT##7#21#CT#15910;4#Campi...</td>\n",
       "      <td>-3.96551724137931,2.13793103448276,6.103448275...</td>\n",
       "      <td>-3.965517</td>\n",
       "      <td>2.137931</td>\n",
       "      <td>-6.103448</td>\n",
       "      <td>8.24137931034483</td>\n",
       "      <td>22.7931034482759</td>\n",
       "      <td>0.137931034482759</td>\n",
       "      <td>2613</td>\n",
       "    </tr>\n",
       "    <tr>\n",
       "      <th>2</th>\n",
       "      <td>2023-04-08 12:15:00</td>\n",
       "      <td>4#Kodagu, Karnataka, India#IN#IN19#12.4167#75....</td>\n",
       "      <td>4#Kodagu, Karnataka, India#IN#IN19#17689#12.41...</td>\n",
       "      <td>-0.570884871550904,1.61750713606089,2.18839200...</td>\n",
       "      <td>-0.570885</td>\n",
       "      <td>1.617507</td>\n",
       "      <td>-2.188392</td>\n",
       "      <td>3.80589914367269</td>\n",
       "      <td>23.977164605138</td>\n",
       "      <td>0.0951474785918173</td>\n",
       "      <td>964</td>\n",
       "    </tr>\n",
       "    <tr>\n",
       "      <th>3</th>\n",
       "      <td>2023-02-28 03:30:00</td>\n",
       "      <td>1#China#CH#CH#35#105#CH;4#Dongying, Shandong, ...</td>\n",
       "      <td>4#Zibo, Shandong, China#CH#CH25#13240#36.7906#...</td>\n",
       "      <td>5.01882057716437,6.52446675031368,1.5056461731...</td>\n",
       "      <td>5.018821</td>\n",
       "      <td>6.524467</td>\n",
       "      <td>-1.505646</td>\n",
       "      <td>8.03011292346299</td>\n",
       "      <td>29.7992471769134</td>\n",
       "      <td>0.0627352572145546</td>\n",
       "      <td>1560</td>\n",
       "    </tr>\n",
       "    <tr>\n",
       "      <th>4</th>\n",
       "      <td>2023-02-28 04:30:00</td>\n",
       "      <td>1#China#CH#CH#35#105#CH;4#Dongying, Shandong, ...</td>\n",
       "      <td>4#Zibo, Shandong, China#CH#CH25#13240#36.7906#...</td>\n",
       "      <td>5.05933791380387,6.49594003747658,1.4366021236...</td>\n",
       "      <td>5.059338</td>\n",
       "      <td>6.495940</td>\n",
       "      <td>-1.436602</td>\n",
       "      <td>7.93254216114928</td>\n",
       "      <td>29.7938788257339</td>\n",
       "      <td>0.0624609618988132</td>\n",
       "      <td>1566</td>\n",
       "    </tr>\n",
       "  </tbody>\n",
       "</table>\n",
       "</div>"
      ],
      "text/plain": [
       "                 DATE                                          Locations   \n",
       "0 2023-02-27 03:45:00  1#Namibia#WA#WA#-22#17#WA;1#South Africa#SF#SF...  \\\n",
       "1 2023-02-27 21:15:00  4#Jacareacanga, ParáR, Brazil#BR#BR16#-6.26667...   \n",
       "2 2023-04-08 12:15:00  4#Kodagu, Karnataka, India#IN#IN19#12.4167#75....   \n",
       "3 2023-02-28 03:30:00  1#China#CH#CH#35#105#CH;4#Dongying, Shandong, ...   \n",
       "4 2023-02-28 04:30:00  1#China#CH#CH#35#105#CH;4#Dongying, Shandong, ...   \n",
       "\n",
       "                                         V2Locations   \n",
       "0  5#Himachal Pradesh, Himachal Pradesh, India#IN...  \\\n",
       "1  1#Central African#CT#CT##7#21#CT#15910;4#Campi...   \n",
       "2  4#Kodagu, Karnataka, India#IN#IN19#17689#12.41...   \n",
       "3  4#Zibo, Shandong, China#CH#CH25#13240#36.7906#...   \n",
       "4  4#Zibo, Shandong, China#CH#CH25#13240#36.7906#...   \n",
       "\n",
       "                                              V2Tone      Tone   \n",
       "0  -0.206611570247934,3.20247933884297,3.40909090... -0.206612  \\\n",
       "1  -3.96551724137931,2.13793103448276,6.103448275... -3.965517   \n",
       "2  -0.570884871550904,1.61750713606089,2.18839200... -0.570885   \n",
       "3  5.01882057716437,6.52446675031368,1.5056461731...  5.018821   \n",
       "4  5.05933791380387,6.49594003747658,1.4366021236...  5.059338   \n",
       "\n",
       "   Positive Score  Negative Score          Polarity   \n",
       "0        3.202479       -3.409091  6.61157024793388  \\\n",
       "1        2.137931       -6.103448  8.24137931034483   \n",
       "2        1.617507       -2.188392  3.80589914367269   \n",
       "3        6.524467       -1.505646  8.03011292346299   \n",
       "4        6.495940       -1.436602  7.93254216114928   \n",
       "\n",
       "  Activity Reference Density Self/Group Reference Density Word Count  \n",
       "0           21.2809917355372            0.103305785123967        883  \n",
       "1           22.7931034482759            0.137931034482759       2613  \n",
       "2            23.977164605138           0.0951474785918173        964  \n",
       "3           29.7992471769134           0.0627352572145546       1560  \n",
       "4           29.7938788257339           0.0624609618988132       1566  "
      ]
     },
     "execution_count": 52,
     "metadata": {},
     "output_type": "execute_result"
    }
   ],
   "source": [
    "deforest_df.head()"
   ]
  },
  {
   "cell_type": "code",
   "execution_count": 53,
   "id": "a25f5fcb",
   "metadata": {},
   "outputs": [
    {
     "data": {
      "image/png": "[encoded data removed]",
      "text/plain": [
       "<Figure size 432x288 with 1 Axes>"
      ]
     },
     "metadata": {
      "needs_background": "light"
     },
     "output_type": "display_data"
    }
   ],
   "source": [
    "deforest_df.boxplot(column = [\"Tone\", \"Positive Score\", \"Negative Score\"])\n",
    "plt.title('Distribution of Tone, Positive & Negative Scores')\n",
    "plt.show()"
   ]
  },
  {
   "cell_type": "code",
   "execution_count": 89,
   "id": "25231a0b",
   "metadata": {},
   "outputs": [
    {
     "data": {
      "image/png": "[encoded data removed]",
      "text/plain": [
       "<Figure size 432x288 with 1 Axes>"
      ]
     },
     "metadata": {},
     "output_type": "display_data"
    }
   ],
   "source": [
    "plt.pie([len(deforest_df[deforest_df[\"Tone\"] > 0]), \n",
    "         len(deforest_df[deforest_df[\"Tone\"] < 0]),\n",
    "         len(deforest_df[deforest_df[\"Tone\"] == 0])\n",
    "        ],\n",
    "       labels = [\"Positive\", \"Negative\", \"Zero\"]\n",
    "       )\n",
    "plt.title(\"Pie chart of Positive and Negative Sentiments\")\n",
    "plt.show()"
   ]
  },
  {
   "cell_type": "code",
   "execution_count": 75,
   "id": "4c04a605",
   "metadata": {},
   "outputs": [
    {
     "data": {
      "image/png": "[encoded data removed]",
      "text/plain": [
       "<Figure size 720x360 with 1 Axes>"
      ]
     },
     "metadata": {
      "needs_background": "light"
     },
     "output_type": "display_data"
    }
   ],
   "source": [
    "state_list = [\"Andhra Pradesh\",\"Arunachal Pradesh \",\"Assam\",\"Bihar\",\"Chhattisgarh\",\"Goa\",\"Gujarat\",\"Haryana\",\"Himachal Pradesh\",\"Jammu and Kashmir\",\"Jharkhand\",\"Karnataka\",\"Kerala\",\"Madhya Pradesh\",\"Maharashtra\",\"Manipur\",\"Meghalaya\",\"Mizoram\",\"Nagaland\",\"Odisha\",\"Punjab\",\"Rajasthan\",\"Sikkim\",\"Tamil Nadu\",\"Telangana\",\"Tripura\",\"Uttar Pradesh\",\"Uttarakhand\",\"West Bengal\",\"Andaman and Nicobar Islands\",\"Chandigarh\",\"Dadra and Nagar Haveli\",\"Daman and Diu\",\"Lakshadweep\",\"National Capital Territory of Delhi\",\"Puducherry\"]\n",
    "state_dict = {}\n",
    "for i in state_list:\n",
    "    state_dict[i] = deforest_df[deforest_df[\"Locations\"].str.contains(i)][\"Tone\"].mean()\n",
    "plt.subplots(figsize=(10, 5))\n",
    "plt.barh(*zip(*state_dict.items()))\n",
    "plt.title(\"State Wise Average Tone\")\n",
    "plt.show()"
   ]
  },
  {
   "cell_type": "code",
   "execution_count": null,
   "id": "f6682a45",
   "metadata": {},
   "outputs": [],
   "source": []
  }
 ],
 "metadata": {
  "kernelspec": {
   "display_name": "Python 3 (ipykernel)",
   "language": "python",
   "name": "python3"
  },
  "language_info": {
   "codemirror_mode": {
    "name": "ipython",
    "version": 3
   },
   "file_extension": ".py",
   "mimetype": "text/x-python",
   "name": "python",
   "nbconvert_exporter": "python",
   "pygments_lexer": "ipython3",
   "version": "3.9.7"
  }
 },
 "nbformat": 4,
 "nbformat_minor": 5
}
